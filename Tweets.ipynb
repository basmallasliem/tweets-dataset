{
 "cells": [
  {
   "cell_type": "code",
   "execution_count": 1,
   "id": "92546a16",
   "metadata": {},
   "outputs": [],
   "source": [
    "# Install the library\n",
    "!pip install jovian --upgrade --quiet"
   ]
  },
  {
   "cell_type": "code",
   "execution_count": 2,
   "id": "45bce66e",
   "metadata": {},
   "outputs": [],
   "source": [
    "# Import it\n",
    "import jovian"
   ]
  },
  {
   "cell_type": "code",
   "execution_count": 3,
   "id": "db068f98",
   "metadata": {},
   "outputs": [],
   "source": [
    "project_name='python-practice-assignment'"
   ]
  },
  {
   "cell_type": "code",
   "execution_count": 4,
   "id": "df4ef316",
   "metadata": {},
   "outputs": [
    {
     "data": {
      "application/javascript": [
       "window.require && require([\"base/js/namespace\"],function(Jupyter){Jupyter.notebook.save_checkpoint()})"
      ],
      "text/plain": [
       "<IPython.core.display.Javascript object>"
      ]
     },
     "metadata": {},
     "output_type": "display_data"
    },
    {
     "name": "stdout",
     "output_type": "stream",
     "text": [
      "[jovian] Updating notebook \"basmallasliem/python-practice-assignment\" on https://jovian.com/\u001b[0m\n",
      "[jovian] Committed successfully! https://jovian.com/basmallasliem/python-practice-assignment\u001b[0m\n"
     ]
    },
    {
     "data": {
      "text/plain": [
       "'https://jovian.com/basmallasliem/python-practice-assignment'"
      ]
     },
     "execution_count": 4,
     "metadata": {},
     "output_type": "execute_result"
    }
   ],
   "source": [
    "# Capture and upload a snapshot\n",
    "jovian.commit(project=project_name, privacy='secret', evironment=None)"
   ]
  },
  {
   "cell_type": "code",
   "execution_count": 5,
   "id": "ae2f63c5",
   "metadata": {},
   "outputs": [],
   "source": [
    "tweets = [\n",
    "    \"Wow, what a great day today!! #sunshine\",\n",
    "    \"I feel sad about the things going on around us. #covid19\",\n",
    "    \"I'm really excited to learn Python with @JovianML #zerotopandas\",\n",
    "    \"This is a really nice song. #linkinpark\",\n",
    "    \"The python programming language is useful for data science\",\n",
    "    \"Why do bad things happen to me?\",\n",
    "    \"Apple announces the release of the new iPhone 12. Fans are excited.\",\n",
    "    \"Spent my day with family!! #happy\",\n",
    "    \"Check out my blog post on common string operations in Python. #zerotopandas\",\n",
    "    \"Freecodecamp has great coding tutorials. #skillup\"\n",
    "]"
   ]
  },
  {
   "cell_type": "code",
   "execution_count": 8,
   "id": "7dcecdc7",
   "metadata": {},
   "outputs": [
    {
     "name": "stdout",
     "output_type": "stream",
     "text": [
      "10\n"
     ]
    }
   ],
   "source": [
    "number_of_tweets = len(tweets)\n",
    "print(number_of_tweets)          "
   ]
  },
  {
   "cell_type": "code",
   "execution_count": 9,
   "id": "ac818e68",
   "metadata": {},
   "outputs": [],
   "source": [
    "happy_words = ['great', 'excited', 'happy', 'nice', 'wonderful', 'amazing', 'good', 'best']"
   ]
  },
  {
   "cell_type": "code",
   "execution_count": 10,
   "id": "d6f73e01",
   "metadata": {},
   "outputs": [],
   "source": [
    "sad_words = ['sad', 'bad', 'tragic', 'unhappy', 'worst']"
   ]
  },
  {
   "cell_type": "code",
   "execution_count": 11,
   "id": "8b2ececb",
   "metadata": {},
   "outputs": [],
   "source": [
    "sample_tweet = tweets[0]"
   ]
  },
  {
   "cell_type": "code",
   "execution_count": 12,
   "id": "6f00cc0d",
   "metadata": {},
   "outputs": [
    {
     "data": {
      "text/plain": [
       "'Wow, what a great day today!! #sunshine'"
      ]
     },
     "execution_count": 12,
     "metadata": {},
     "output_type": "execute_result"
    }
   ],
   "source": [
    "sample_tweet"
   ]
  },
  {
   "cell_type": "code",
   "execution_count": 13,
   "id": "70676e33",
   "metadata": {},
   "outputs": [],
   "source": [
    "is_tweet_happy = False\n",
    "\n",
    "# Get a word from happy_words\n",
    "for word in happy_words:\n",
    "    # Check if the tweet contains the word\n",
    "    if word in sample_tweet:\n",
    "        # Word found! Mark the tweet as happy\n",
    "        is_tweet_happy = True"
   ]
  },
  {
   "cell_type": "code",
   "execution_count": 14,
   "id": "0f09b8d2",
   "metadata": {},
   "outputs": [
    {
     "data": {
      "text/plain": [
       "True"
      ]
     },
     "execution_count": 14,
     "metadata": {},
     "output_type": "execute_result"
    }
   ],
   "source": [
    "is_tweet_happy"
   ]
  },
  {
   "cell_type": "code",
   "execution_count": 15,
   "id": "b8474c39",
   "metadata": {},
   "outputs": [],
   "source": [
    "# store the final answer in this variable\n",
    "number_of_happy_tweets = 0\n",
    "\n",
    "for t in tweets:\n",
    "    for w in happy_words:\n",
    "        if w in t:\n",
    "            number_of_happy_tweets += 1\n",
    "        else:\n",
    "            continue\n"
   ]
  },
  {
   "cell_type": "code",
   "execution_count": 16,
   "id": "3e890807",
   "metadata": {},
   "outputs": [
    {
     "name": "stdout",
     "output_type": "stream",
     "text": [
      "Number of happy tweets: 6\n"
     ]
    }
   ],
   "source": [
    "print(\"Number of happy tweets:\", number_of_happy_tweets)"
   ]
  },
  {
   "cell_type": "code",
   "execution_count": 17,
   "id": "903e7d70",
   "metadata": {},
   "outputs": [],
   "source": [
    "happy_fraction = number_of_happy_tweets/len(tweets)"
   ]
  },
  {
   "cell_type": "code",
   "execution_count": 18,
   "id": "6bc536c8",
   "metadata": {},
   "outputs": [
    {
     "name": "stdout",
     "output_type": "stream",
     "text": [
      "The fraction of happy tweets is: 0.6\n"
     ]
    }
   ],
   "source": [
    "print(\"The fraction of happy tweets is:\", happy_fraction)"
   ]
  },
  {
   "cell_type": "code",
   "execution_count": 19,
   "id": "b246fc75",
   "metadata": {},
   "outputs": [],
   "source": [
    "number_of_sad_tweets = 0\n",
    "for t in tweets:\n",
    "    for s in sad_words:\n",
    "        if s in t:\n",
    "            number_of_sad_tweets +=1\n",
    "        else:\n",
    "            continue"
   ]
  },
  {
   "cell_type": "code",
   "execution_count": 20,
   "id": "cfc8b68e",
   "metadata": {},
   "outputs": [
    {
     "name": "stdout",
     "output_type": "stream",
     "text": [
      "Number of sad tweets: 2\n"
     ]
    }
   ],
   "source": [
    "print(\"Number of sad tweets:\", number_of_sad_tweets)"
   ]
  },
  {
   "cell_type": "code",
   "execution_count": 21,
   "id": "9f9145e6",
   "metadata": {},
   "outputs": [],
   "source": [
    "sad_fraction = number_of_sad_tweets/len(tweets)"
   ]
  },
  {
   "cell_type": "code",
   "execution_count": 22,
   "id": "7f92109f",
   "metadata": {},
   "outputs": [
    {
     "name": "stdout",
     "output_type": "stream",
     "text": [
      "The fraction of sad tweets is: 0.2\n"
     ]
    }
   ],
   "source": [
    "print(\"The fraction of sad tweets is:\", sad_fraction)"
   ]
  },
  {
   "cell_type": "code",
   "execution_count": 23,
   "id": "ae2ad78a",
   "metadata": {},
   "outputs": [],
   "source": [
    "sentiment_score = happy_fraction - sad_fraction"
   ]
  },
  {
   "cell_type": "code",
   "execution_count": 24,
   "id": "44b012b5",
   "metadata": {},
   "outputs": [
    {
     "name": "stdout",
     "output_type": "stream",
     "text": [
      "The sentiment score for the given tweets is 0.39999999999999997\n"
     ]
    }
   ],
   "source": [
    "print(\"The sentiment score for the given tweets is\", sentiment_score)"
   ]
  },
  {
   "cell_type": "code",
   "execution_count": null,
   "id": "9d8bef66",
   "metadata": {},
   "outputs": [],
   "source": []
  }
 ],
 "metadata": {
  "kernelspec": {
   "display_name": "Python 3 (ipykernel)",
   "language": "python",
   "name": "python3"
  },
  "language_info": {
   "codemirror_mode": {
    "name": "ipython",
    "version": 3
   },
   "file_extension": ".py",
   "mimetype": "text/x-python",
   "name": "python",
   "nbconvert_exporter": "python",
   "pygments_lexer": "ipython3",
   "version": "3.9.13"
  }
 },
 "nbformat": 4,
 "nbformat_minor": 5
}
